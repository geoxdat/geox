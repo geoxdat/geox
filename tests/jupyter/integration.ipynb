{
 "cells": [
  {
   "cell_type": "code",
   "execution_count": 2,
   "id": "9a0e9496-9cfa-4a03-af9e-7d07c12ff2d2",
   "metadata": {},
   "outputs": [
    {
     "name": "stdout",
     "output_type": "stream",
     "text": [
      "Requirement already satisfied: geox in /Users/rizquuula/opt/anaconda3/lib/python3.9/site-packages (0.0.12)\n",
      "Requirement already satisfied: pytz in /Users/rizquuula/opt/anaconda3/lib/python3.9/site-packages (from geox) (2021.3)\n",
      "Requirement already satisfied: pandas in /Users/rizquuula/opt/anaconda3/lib/python3.9/site-packages (from geox) (1.4.2)\n",
      "Requirement already satisfied: numpy in /Users/rizquuula/opt/anaconda3/lib/python3.9/site-packages (from geox) (1.21.5)\n",
      "Requirement already satisfied: requests in /Users/rizquuula/opt/anaconda3/lib/python3.9/site-packages (from geox) (2.27.1)\n",
      "Requirement already satisfied: tqdm in /Users/rizquuula/opt/anaconda3/lib/python3.9/site-packages (from geox) (4.64.0)\n",
      "Requirement already satisfied: pytest in /Users/rizquuula/opt/anaconda3/lib/python3.9/site-packages (from geox) (7.1.1)\n",
      "Requirement already satisfied: python-dateutil>=2.8.1 in /Users/rizquuula/opt/anaconda3/lib/python3.9/site-packages (from pandas->geox) (2.8.2)\n",
      "Requirement already satisfied: attrs>=19.2.0 in /Users/rizquuula/opt/anaconda3/lib/python3.9/site-packages (from pytest->geox) (21.4.0)\n",
      "Requirement already satisfied: iniconfig in /Users/rizquuula/opt/anaconda3/lib/python3.9/site-packages (from pytest->geox) (1.1.1)\n",
      "Requirement already satisfied: packaging in /Users/rizquuula/opt/anaconda3/lib/python3.9/site-packages (from pytest->geox) (21.3)\n",
      "Requirement already satisfied: pluggy<2.0,>=0.12 in /Users/rizquuula/opt/anaconda3/lib/python3.9/site-packages (from pytest->geox) (1.0.0)\n",
      "Requirement already satisfied: py>=1.8.2 in /Users/rizquuula/opt/anaconda3/lib/python3.9/site-packages (from pytest->geox) (1.11.0)\n",
      "Requirement already satisfied: tomli>=1.0.0 in /Users/rizquuula/opt/anaconda3/lib/python3.9/site-packages (from pytest->geox) (1.2.2)\n",
      "Requirement already satisfied: certifi>=2017.4.17 in /Users/rizquuula/opt/anaconda3/lib/python3.9/site-packages (from requests->geox) (2021.10.8)\n",
      "Requirement already satisfied: charset-normalizer~=2.0.0 in /Users/rizquuula/opt/anaconda3/lib/python3.9/site-packages (from requests->geox) (2.0.4)\n",
      "Requirement already satisfied: urllib3<1.27,>=1.21.1 in /Users/rizquuula/opt/anaconda3/lib/python3.9/site-packages (from requests->geox) (1.26.9)\n",
      "Requirement already satisfied: idna<4,>=2.5 in /Users/rizquuula/opt/anaconda3/lib/python3.9/site-packages (from requests->geox) (3.3)\n",
      "Requirement already satisfied: six>=1.5 in /Users/rizquuula/opt/anaconda3/lib/python3.9/site-packages (from python-dateutil>=2.8.1->pandas->geox) (1.16.0)\n",
      "Requirement already satisfied: pyparsing!=3.0.5,>=2.0.2 in /Users/rizquuula/opt/anaconda3/lib/python3.9/site-packages (from packaging->pytest->geox) (3.0.4)\n"
     ]
    }
   ],
   "source": [
    "!pip install geox"
   ]
  },
  {
   "cell_type": "code",
   "execution_count": 3,
   "id": "07d54c78-0d46-4ed4-a0b3-4ba6ccf8832a",
   "metadata": {},
   "outputs": [],
   "source": [
    "from geox import GeoX"
   ]
  },
  {
   "cell_type": "code",
   "execution_count": 5,
   "id": "5a83e1f0-efd7-41b8-a6cd-92eba6c9c1cc",
   "metadata": {},
   "outputs": [
    {
     "data": {
      "text/plain": [
       "'Email: razifrizqullah@gmail.com, Number of projects: 1'"
      ]
     },
     "execution_count": 5,
     "metadata": {},
     "output_type": "execute_result"
    }
   ],
   "source": [
    "geox = GeoX(api_key='POmg5QSkDeNYTfxSeRqsl4sk9OWmHTON')\n",
    "f'Email: {geox.email}, Number of projects: {geox.num_of_projects}'"
   ]
  },
  {
   "cell_type": "code",
   "execution_count": 6,
   "id": "22b0dd71-0491-4467-9c52-bc32a1ff6939",
   "metadata": {},
   "outputs": [
    {
     "name": "stdout",
     "output_type": "stream",
     "text": [
      "ID: NANO000, \n",
      "Title: Nano Project, \n",
      "There are 10 project versions \n",
      "\n"
     ]
    }
   ],
   "source": [
    "projects = geox.read_all_projects()\n",
    "for project in projects:\n",
    "  print(f'ID: {project.project_id}, \\nTitle: {project.title}, \\nThere are {project.num_of_project_versions} project versions \\n')"
   ]
  },
  {
   "cell_type": "code",
   "execution_count": 7,
   "id": "a5865608-3e3c-4d25-a295-aa060dd5ccc2",
   "metadata": {},
   "outputs": [
    {
     "name": "stdout",
     "output_type": "stream",
     "text": [
      "ID: NANO000, \n",
      "Title: Nano Project, \n",
      "Location: Mars, \n",
      "Description: Here and there, \n",
      "Created at: 2022-07-23 09:11:23.197585, \n",
      "There are 10 project versions \n",
      "\n"
     ]
    }
   ],
   "source": [
    "project = geox.read_project('NANO000')\n",
    "print(f'ID: {project.project_id}, \\nTitle: {project.title}, \\nLocation: {project.location}, \\nDescription: {project.description}, \\nCreated at: {project.created_at}, \\nThere are {project.num_of_project_versions} project versions \\n')"
   ]
  },
  {
   "cell_type": "code",
   "execution_count": 8,
   "id": "0901cdf8-18bb-4f93-a501-fcf862a08051",
   "metadata": {},
   "outputs": [
    {
     "name": "stdout",
     "output_type": "stream",
     "text": [
      "ID: 3, Hash: kosHBHi6es2AzLIzkY4CNnksYNGC7SHd\n",
      "ID: 4, Hash: 6I9qI3iju1rjfRJI0FDztbIfs2zZXX8a\n",
      "ID: 5, Hash: MY7a8VkM6HszyGD7PoFR8x0SkfGAEDPS\n",
      "ID: 17, Hash: JzWVkcTtlXXYfLKrCafn0bRofqtt3zBI\n",
      "ID: 21, Hash: FlBbYUzFT496Btu4zFHBMhIglNjjXGlS\n",
      "ID: 24, Hash: HbGKJ4YEj4ShikFC9cBuaZ4f9kZEO4DD\n",
      "ID: 26, Hash: NqMchaz0jPBhvxf8ZWfw3vuURNXh4Gd0\n"
     ]
    }
   ],
   "source": [
    "project_versions = project.read_all_project_versions()\n",
    "for project_version in project_versions:\n",
    "  print(f'ID: {project_version.id}, Hash: {project_version.hash}')"
   ]
  },
  {
   "cell_type": "code",
   "execution_count": 11,
   "id": "90576b66-ee42-4972-a34f-a57c870e79db",
   "metadata": {},
   "outputs": [
    {
     "name": "stdout",
     "output_type": "stream",
     "text": [
      "ID: 26\n",
      "num_of_survey_rows 6065\n",
      "num_of_collar_rows 1007\n",
      "num_of_alteration_rows 160850\n",
      "num_of_assay_rows 40960\n",
      "num_of_litho_rows 168707\n",
      "num_of_mineralisation_rows 109334\n"
     ]
    }
   ],
   "source": [
    "project_version = project.read_project_version('NqMchaz0jPBhvxf8ZWfw3vuURNXh4Gd0')\n",
    "print(f'ID: {project_version.id}')\n",
    "print('num_of_survey_rows', project_version.num_of_survey_rows)\n",
    "print('num_of_collar_rows', project_version.num_of_collar_rows)\n",
    "print('num_of_alteration_rows', project_version.num_of_alteration_rows)\n",
    "print('num_of_assay_rows', project_version.num_of_assay_rows)\n",
    "print('num_of_litho_rows', project_version.num_of_litho_rows)\n",
    "print('num_of_mineralisation_rows', project_version.num_of_mineralisation_rows)"
   ]
  },
  {
   "cell_type": "code",
   "execution_count": 15,
   "id": "8e60160f-b947-4a05-94fb-e1cc57959331",
   "metadata": {},
   "outputs": [
    {
     "name": "stderr",
     "output_type": "stream",
     "text": [
      "Collar Dataset:   0%|                                                     | 0/1007 [00:00<?, ?it/s]"
     ]
    },
    {
     "name": "stdout",
     "output_type": "stream",
     "text": [
      "\n",
      "      id  holeid projectid           x           y       z  tdepth  \\\n",
      "0  11392  APD002   NANO000  735094.904  173215.377  24.606    66.0   \n",
      "1  11393  APD003   NANO000  735133.895  173136.264  30.089    42.0   \n",
      "2  11394  APD005   NANO000  735128.730  173069.312  30.153    34.0   \n",
      "3  11395  ARC001   NANO000  735188.371  173599.273  69.989   113.0   \n",
      "4  11396  ARC002   NANO000  735203.201  173524.303  66.397   150.0   \n",
      "\n",
      "       prospect  \n",
      "0  SOUTH_ARAREN  \n",
      "1  SOUTH_ARAREN  \n",
      "2  SOUTH_ARAREN  \n",
      "3  NORTH_ARAREN  \n",
      "4  NORTH_ARAREN  \n"
     ]
    },
    {
     "name": "stderr",
     "output_type": "stream",
     "text": [
      "\n"
     ]
    }
   ],
   "source": [
    "df_collar = project_version.read_collar_data()\n",
    "if df_collar is not None: \n",
    "    print()\n",
    "    print(df_collar.head())"
   ]
  },
  {
   "cell_type": "code",
   "execution_count": 14,
   "id": "a970d427-948a-465e-8f19-fc7ff6f0b1e0",
   "metadata": {},
   "outputs": [
    {
     "name": "stderr",
     "output_type": "stream",
     "text": [
      "Survey Dataset: 100%|██████████████████████████████████████████| 6065/6065 [02:18<00:00, 43.75it/s]"
     ]
    },
    {
     "name": "stdout",
     "output_type": "stream",
     "text": [
      "\n",
      "      id  holeid projectid  depth  azimuth   dip      prospect\n",
      "0  63021  APD002   NANO000    0.0    270.0 -63.0  SOUTH_ARAREN\n",
      "1  63022  APD002   NANO000   30.0    269.4 -63.4  SOUTH_ARAREN\n",
      "2  63023  APD002   NANO000   60.0    268.0 -63.5  SOUTH_ARAREN\n",
      "3  63024  APD003   NANO000    0.0    270.0 -65.0  SOUTH_ARAREN\n",
      "4  63025  APD003   NANO000   30.0    270.8 -65.3  SOUTH_ARAREN\n"
     ]
    },
    {
     "name": "stderr",
     "output_type": "stream",
     "text": [
      "\n"
     ]
    }
   ],
   "source": [
    "df_survey = project_version.read_survey_data()\n",
    "if df_survey is not None: \n",
    "  print()\n",
    "  print(df_survey.head())"
   ]
  },
  {
   "cell_type": "code",
   "execution_count": null,
   "id": "deeae410-14fb-487a-84bb-d0ec7be85a2e",
   "metadata": {},
   "outputs": [],
   "source": []
  }
 ],
 "metadata": {
  "kernelspec": {
   "display_name": "Python [conda env:root] *",
   "language": "python",
   "name": "conda-root-py"
  },
  "language_info": {
   "codemirror_mode": {
    "name": "ipython",
    "version": 3
   },
   "file_extension": ".py",
   "mimetype": "text/x-python",
   "name": "python",
   "nbconvert_exporter": "python",
   "pygments_lexer": "ipython3",
   "version": "3.9.12"
  }
 },
 "nbformat": 4,
 "nbformat_minor": 5
}
